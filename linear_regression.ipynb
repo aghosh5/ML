{
  "nbformat": 4,
  "nbformat_minor": 0,
  "metadata": {
    "colab": {
      "name": "linear_regression.ipynb",
      "provenance": []
    },
    "kernelspec": {
      "name": "python3",
      "display_name": "Python 3"
    },
    "language_info": {
      "name": "python"
    }
  },
  "cells": [
    {
      "cell_type": "markdown",
      "source": [
        "Linear Regression:\n",
        "\n",
        "Y = wX + b\n",
        "\n",
        "Y --> Dependent Variable\n",
        "\n",
        "X --> Independent Variable\n",
        "\n",
        "w --> weight\n",
        "\n",
        "b --> bias"
      ],
      "metadata": {
        "id": "kZ_sZiWPcGl2"
      }
    },
    {
      "cell_type": "markdown",
      "source": [
        "Gradient Descent:\n",
        "\n",
        "Gradient Descent is an optimization algorithm used for minimizing the loss function in various machine learning algorithms. It is used for updating the parameters of the learning model.\n",
        "\n",
        "w = w - α*dw\n",
        "\n",
        "b = b - α*db"
      ],
      "metadata": {
        "id": "fTFNBAw6cGu4"
      }
    },
    {
      "cell_type": "markdown",
      "source": [
        "Learning Rate:\n",
        "\n",
        "Learning rate is a tuning parameter in an optimization algorithm that determines the step size at each iteration while moving toward a minimum of a loss function."
      ],
      "metadata": {
        "id": "3KqtwPJTcSlR"
      }
    },
    {
      "cell_type": "markdown",
      "source": [
        "dw = -2/n (sum 0 to n) xi (yi- yi pred)\n",
        "\n",
        "db = -2/n (sum 0 to n) (yi- yi pred)"
      ],
      "metadata": {
        "id": "b1-EUQ6ycG2V"
      }
    },
    {
      "cell_type": "code",
      "source": [
        "import numpy as np"
      ],
      "metadata": {
        "id": "m47Tx9OtcSBz"
      },
      "execution_count": 54,
      "outputs": []
    },
    {
      "cell_type": "markdown",
      "source": [
        "say the linear regression is stored in **Lin_Reg_model.py**\n",
        "\n",
        "then \n",
        "\n",
        "upload the py file in colab\n",
        "\n",
        "import Lin_Reg_model\n",
        "\n",
        "then no need of the code below\n",
        "\n",
        "then \n",
        "\n",
        "line 63 : Lin_Reg_model.Linear_Regrerssion(...)"
      ],
      "metadata": {
        "id": "O33dtj8uwscx"
      }
    },
    {
      "cell_type": "markdown",
      "source": [
        "**Linear regression**"
      ],
      "metadata": {
        "id": "JF1TNV5wdzUu"
      }
    },
    {
      "cell_type": "code",
      "execution_count": 55,
      "metadata": {
        "id": "WahSdWrIba7b"
      },
      "outputs": [],
      "source": [
        "#can store this code in a separate python file and use it in multiple \n",
        "#places by loading it\n",
        "class Linear_Regression():\n",
        "   #initializing the parameters - learning rate and no of iter\n",
        "   def __init__(self, learning_rate, no_iter): #no_iter=no of iterations\n",
        "     #self 1st parameter. It represents an instance of the class\n",
        "     self.learning_rate = learning_rate\n",
        "     self.no_iter = no_iter\n",
        "  \n",
        "   def fit(self, X,Y):\n",
        "     self.m, self.n = X.shape  #no of rows and cols\n",
        "     #initializing weights and bias\n",
        "     self.w = np.zeros(self.n)  #array for weights with these cols, all vals contained=0\n",
        "     self.b = 0   #bias value \n",
        "     self.X = X\n",
        "     self.Y = Y\n",
        "    \n",
        "     #implementing gradient descent\n",
        "\n",
        "     for i in range (self.no_iter):\n",
        "       self.update_weights()\n",
        "    \n",
        "   def update_weights(self):\n",
        "      Y_prediction = self.predict(self.X)\n",
        "      #returns the predicted value  --> y=wx+b (linear)\n",
        "\n",
        "      # calculate gradients\n",
        "\n",
        "      dw = - (2 * (self.X.T).dot(self.Y - Y_prediction)) / self.m\n",
        "      #\n",
        "\n",
        "      db = - 2 * np.sum(self.Y - Y_prediction)/self.m\n",
        "      # upadating the weights\n",
        "    \n",
        "      self.w = self.w - self.learning_rate*dw\n",
        "      self.b = self.b - self.learning_rate*db\n",
        "\n",
        "      \n",
        "\n",
        "   def predict(self, X):\n",
        "     return X.dot(self.w) + self.b\n",
        "     #Y = wX+b\n",
        "\n",
        "\n",
        "\n"
      ]
    },
    {
      "cell_type": "markdown",
      "source": [
        "Using Linear Regression model for prediction"
      ],
      "metadata": {
        "id": "eYO56wL6oR9P"
      }
    },
    {
      "cell_type": "code",
      "source": [
        "import pandas  as pd\n",
        "import matplotlib.pyplot as plt\n",
        "from sklearn.model_selection import train_test_split\n",
        "#import Lin_Reg_model\n"
      ],
      "metadata": {
        "id": "GjuIlPgMnv1S"
      },
      "execution_count": 56,
      "outputs": []
    },
    {
      "cell_type": "markdown",
      "source": [
        "Data preprocessing"
      ],
      "metadata": {
        "id": "0RBTZBvHpTfO"
      }
    },
    {
      "cell_type": "code",
      "source": [
        "salary_data = pd.read_csv('/content/salary_data.csv')\n",
        "salary_data.head()"
      ],
      "metadata": {
        "colab": {
          "base_uri": "https://localhost:8080/",
          "height": 206
        },
        "id": "ltOccIAwjjmw",
        "outputId": "af22133b-3bca-43ee-ab93-54998f0251a5"
      },
      "execution_count": 57,
      "outputs": [
        {
          "output_type": "execute_result",
          "data": {
            "text/html": [
              "\n",
              "  <div id=\"df-2d1ff86c-9558-4891-9164-6ea1ad4a95f4\">\n",
              "    <div class=\"colab-df-container\">\n",
              "      <div>\n",
              "<style scoped>\n",
              "    .dataframe tbody tr th:only-of-type {\n",
              "        vertical-align: middle;\n",
              "    }\n",
              "\n",
              "    .dataframe tbody tr th {\n",
              "        vertical-align: top;\n",
              "    }\n",
              "\n",
              "    .dataframe thead th {\n",
              "        text-align: right;\n",
              "    }\n",
              "</style>\n",
              "<table border=\"1\" class=\"dataframe\">\n",
              "  <thead>\n",
              "    <tr style=\"text-align: right;\">\n",
              "      <th></th>\n",
              "      <th>YearsExperience</th>\n",
              "      <th>Salary</th>\n",
              "    </tr>\n",
              "  </thead>\n",
              "  <tbody>\n",
              "    <tr>\n",
              "      <th>0</th>\n",
              "      <td>1.1</td>\n",
              "      <td>39343</td>\n",
              "    </tr>\n",
              "    <tr>\n",
              "      <th>1</th>\n",
              "      <td>1.3</td>\n",
              "      <td>46205</td>\n",
              "    </tr>\n",
              "    <tr>\n",
              "      <th>2</th>\n",
              "      <td>1.5</td>\n",
              "      <td>37731</td>\n",
              "    </tr>\n",
              "    <tr>\n",
              "      <th>3</th>\n",
              "      <td>2.0</td>\n",
              "      <td>43525</td>\n",
              "    </tr>\n",
              "    <tr>\n",
              "      <th>4</th>\n",
              "      <td>2.2</td>\n",
              "      <td>39891</td>\n",
              "    </tr>\n",
              "  </tbody>\n",
              "</table>\n",
              "</div>\n",
              "      <button class=\"colab-df-convert\" onclick=\"convertToInteractive('df-2d1ff86c-9558-4891-9164-6ea1ad4a95f4')\"\n",
              "              title=\"Convert this dataframe to an interactive table.\"\n",
              "              style=\"display:none;\">\n",
              "        \n",
              "  <svg xmlns=\"http://www.w3.org/2000/svg\" height=\"24px\"viewBox=\"0 0 24 24\"\n",
              "       width=\"24px\">\n",
              "    <path d=\"M0 0h24v24H0V0z\" fill=\"none\"/>\n",
              "    <path d=\"M18.56 5.44l.94 2.06.94-2.06 2.06-.94-2.06-.94-.94-2.06-.94 2.06-2.06.94zm-11 1L8.5 8.5l.94-2.06 2.06-.94-2.06-.94L8.5 2.5l-.94 2.06-2.06.94zm10 10l.94 2.06.94-2.06 2.06-.94-2.06-.94-.94-2.06-.94 2.06-2.06.94z\"/><path d=\"M17.41 7.96l-1.37-1.37c-.4-.4-.92-.59-1.43-.59-.52 0-1.04.2-1.43.59L10.3 9.45l-7.72 7.72c-.78.78-.78 2.05 0 2.83L4 21.41c.39.39.9.59 1.41.59.51 0 1.02-.2 1.41-.59l7.78-7.78 2.81-2.81c.8-.78.8-2.07 0-2.86zM5.41 20L4 18.59l7.72-7.72 1.47 1.35L5.41 20z\"/>\n",
              "  </svg>\n",
              "      </button>\n",
              "      \n",
              "  <style>\n",
              "    .colab-df-container {\n",
              "      display:flex;\n",
              "      flex-wrap:wrap;\n",
              "      gap: 12px;\n",
              "    }\n",
              "\n",
              "    .colab-df-convert {\n",
              "      background-color: #E8F0FE;\n",
              "      border: none;\n",
              "      border-radius: 50%;\n",
              "      cursor: pointer;\n",
              "      display: none;\n",
              "      fill: #1967D2;\n",
              "      height: 32px;\n",
              "      padding: 0 0 0 0;\n",
              "      width: 32px;\n",
              "    }\n",
              "\n",
              "    .colab-df-convert:hover {\n",
              "      background-color: #E2EBFA;\n",
              "      box-shadow: 0px 1px 2px rgba(60, 64, 67, 0.3), 0px 1px 3px 1px rgba(60, 64, 67, 0.15);\n",
              "      fill: #174EA6;\n",
              "    }\n",
              "\n",
              "    [theme=dark] .colab-df-convert {\n",
              "      background-color: #3B4455;\n",
              "      fill: #D2E3FC;\n",
              "    }\n",
              "\n",
              "    [theme=dark] .colab-df-convert:hover {\n",
              "      background-color: #434B5C;\n",
              "      box-shadow: 0px 1px 3px 1px rgba(0, 0, 0, 0.15);\n",
              "      filter: drop-shadow(0px 1px 2px rgba(0, 0, 0, 0.3));\n",
              "      fill: #FFFFFF;\n",
              "    }\n",
              "  </style>\n",
              "\n",
              "      <script>\n",
              "        const buttonEl =\n",
              "          document.querySelector('#df-2d1ff86c-9558-4891-9164-6ea1ad4a95f4 button.colab-df-convert');\n",
              "        buttonEl.style.display =\n",
              "          google.colab.kernel.accessAllowed ? 'block' : 'none';\n",
              "\n",
              "        async function convertToInteractive(key) {\n",
              "          const element = document.querySelector('#df-2d1ff86c-9558-4891-9164-6ea1ad4a95f4');\n",
              "          const dataTable =\n",
              "            await google.colab.kernel.invokeFunction('convertToInteractive',\n",
              "                                                     [key], {});\n",
              "          if (!dataTable) return;\n",
              "\n",
              "          const docLinkHtml = 'Like what you see? Visit the ' +\n",
              "            '<a target=\"_blank\" href=https://colab.research.google.com/notebooks/data_table.ipynb>data table notebook</a>'\n",
              "            + ' to learn more about interactive tables.';\n",
              "          element.innerHTML = '';\n",
              "          dataTable['output_type'] = 'display_data';\n",
              "          await google.colab.output.renderOutput(dataTable, element);\n",
              "          const docLink = document.createElement('div');\n",
              "          docLink.innerHTML = docLinkHtml;\n",
              "          element.appendChild(docLink);\n",
              "        }\n",
              "      </script>\n",
              "    </div>\n",
              "  </div>\n",
              "  "
            ],
            "text/plain": [
              "   YearsExperience  Salary\n",
              "0              1.1   39343\n",
              "1              1.3   46205\n",
              "2              1.5   37731\n",
              "3              2.0   43525\n",
              "4              2.2   39891"
            ]
          },
          "metadata": {},
          "execution_count": 57
        }
      ]
    },
    {
      "cell_type": "code",
      "source": [
        "salary_data.shape"
      ],
      "metadata": {
        "colab": {
          "base_uri": "https://localhost:8080/"
        },
        "id": "swSFh3tgpiwg",
        "outputId": "cbc1442a-7338-4aa3-f88b-5fbca33c94b7"
      },
      "execution_count": 58,
      "outputs": [
        {
          "output_type": "execute_result",
          "data": {
            "text/plain": [
              "(30, 2)"
            ]
          },
          "metadata": {},
          "execution_count": 58
        }
      ]
    },
    {
      "cell_type": "code",
      "source": [
        "salary_data.isnull().sum()"
      ],
      "metadata": {
        "colab": {
          "base_uri": "https://localhost:8080/"
        },
        "id": "ATWoN_dZpxVC",
        "outputId": "3e8df697-9bdb-457a-df9d-7e41df10deb3"
      },
      "execution_count": 59,
      "outputs": [
        {
          "output_type": "execute_result",
          "data": {
            "text/plain": [
              "YearsExperience    0\n",
              "Salary             0\n",
              "dtype: int64"
            ]
          },
          "metadata": {},
          "execution_count": 59
        }
      ]
    },
    {
      "cell_type": "markdown",
      "source": [
        "Splitting the feature and target"
      ],
      "metadata": {
        "id": "0EA4TfN8p443"
      }
    },
    {
      "cell_type": "code",
      "source": [
        "X = salary_data.iloc[:,:-1].values\n",
        "Y = salary_data.iloc[:,1].values"
      ],
      "metadata": {
        "id": "8xj6yT1Qp20z"
      },
      "execution_count": 60,
      "outputs": []
    },
    {
      "cell_type": "code",
      "source": [
        "print(X)\n",
        "print('________')\n",
        "print(Y)"
      ],
      "metadata": {
        "colab": {
          "base_uri": "https://localhost:8080/"
        },
        "id": "j6SIc8J2qKbd",
        "outputId": "024eed00-5925-4e94-bbc0-095e2b328999"
      },
      "execution_count": 61,
      "outputs": [
        {
          "output_type": "stream",
          "name": "stdout",
          "text": [
            "[[ 1.1]\n",
            " [ 1.3]\n",
            " [ 1.5]\n",
            " [ 2. ]\n",
            " [ 2.2]\n",
            " [ 2.9]\n",
            " [ 3. ]\n",
            " [ 3.2]\n",
            " [ 3.2]\n",
            " [ 3.7]\n",
            " [ 3.9]\n",
            " [ 4. ]\n",
            " [ 4. ]\n",
            " [ 4.1]\n",
            " [ 4.5]\n",
            " [ 4.9]\n",
            " [ 5.1]\n",
            " [ 5.3]\n",
            " [ 5.9]\n",
            " [ 6. ]\n",
            " [ 6.8]\n",
            " [ 7.1]\n",
            " [ 7.9]\n",
            " [ 8.2]\n",
            " [ 8.7]\n",
            " [ 9. ]\n",
            " [ 9.5]\n",
            " [ 9.6]\n",
            " [10.3]\n",
            " [10.5]]\n",
            "________\n",
            "[ 39343  46205  37731  43525  39891  56642  60150  54445  64445  57189\n",
            "  63218  55794  56957  57081  61111  67938  66029  83088  81363  93940\n",
            "  91738  98273 101302 113812 109431 105582 116969 112635 122391 121872]\n"
          ]
        }
      ]
    },
    {
      "cell_type": "markdown",
      "source": [
        "Splitting into training and test data"
      ],
      "metadata": {
        "id": "4Eda0XroqSCI"
      }
    },
    {
      "cell_type": "code",
      "source": [
        "X_train, X_test, Y_train, Y_test = train_test_split(X, Y, test_size = 0.33,\n",
        "                                                     random_state = 2 )"
      ],
      "metadata": {
        "id": "USRh8RE7qOzP"
      },
      "execution_count": 62,
      "outputs": []
    },
    {
      "cell_type": "markdown",
      "source": [
        "Train the linear regression model"
      ],
      "metadata": {
        "id": "6n0nNTI-qgxQ"
      }
    },
    {
      "cell_type": "code",
      "source": [
        "model = Linear_Regression(learning_rate=0.01, no_iter=1000)"
      ],
      "metadata": {
        "id": "QCWkdueDqYQq"
      },
      "execution_count": 63,
      "outputs": []
    },
    {
      "cell_type": "code",
      "source": [
        "model.fit(X_train, Y_train)"
      ],
      "metadata": {
        "id": "TyKcQQ1ErUio"
      },
      "execution_count": 64,
      "outputs": []
    },
    {
      "cell_type": "code",
      "source": [
        "#print the parameters \n",
        "print('Weight = ',model.w[0])\n",
        "print('Bias = ', model.b)"
      ],
      "metadata": {
        "colab": {
          "base_uri": "https://localhost:8080/"
        },
        "id": "VH9kX4Firblr",
        "outputId": "018af236-69d8-4d14-a0dd-0c811a274fba"
      },
      "execution_count": 67,
      "outputs": [
        {
          "output_type": "stream",
          "name": "stdout",
          "text": [
            "Weight =  9580.301196603597\n",
            "Bias =  23226.38946603212\n"
          ]
        }
      ]
    },
    {
      "cell_type": "markdown",
      "source": [
        "Predict the salary value for test data"
      ],
      "metadata": {
        "id": "8OtdCw0xtqV-"
      }
    },
    {
      "cell_type": "code",
      "source": [
        "print(X_test)\n",
        "print('________________')\n",
        "test_data_prediction = model.predict(X_test)\n",
        "print(test_data_prediction)"
      ],
      "metadata": {
        "colab": {
          "base_uri": "https://localhost:8080/"
        },
        "id": "etHhBMJuthfT",
        "outputId": "1bff2fcd-5b03-4157-df90-a3cd909c953d"
      },
      "execution_count": 70,
      "outputs": [
        {
          "output_type": "stream",
          "name": "stdout",
          "text": [
            "[[1.3]\n",
            " [1.1]\n",
            " [4.5]\n",
            " [3.7]\n",
            " [7.1]\n",
            " [6. ]\n",
            " [8.2]\n",
            " [3. ]\n",
            " [2. ]\n",
            " [6.8]]\n",
            "________________\n",
            "[ 35680.78102162  33764.7207823   66337.74485075  58673.50389347\n",
            "  91246.52796192  80708.19664565 101784.85927818  51967.29305584\n",
            "  42386.99185924  88372.43760294]\n"
          ]
        }
      ]
    },
    {
      "cell_type": "markdown",
      "source": [
        "y=9514x+23697\n",
        "\n",
        "salary = 9514*experience + 23697 "
      ],
      "metadata": {
        "id": "QmEBu-mTvDUF"
      }
    },
    {
      "cell_type": "markdown",
      "source": [
        "Visualizing the predicted values and actual values "
      ],
      "metadata": {
        "id": "6qJW_1-vt9e_"
      }
    },
    {
      "cell_type": "code",
      "source": [
        "plt.scatter (X_test, Y_test, color ='red')\n",
        "plt.plot(X_test, test_data_prediction, color='blue')\n",
        "plt.xlabel('Work experience')\n",
        "plt.ylabel('Salary')\n",
        "plt.title('Salary vs Experience')\n",
        "plt.show()"
      ],
      "metadata": {
        "colab": {
          "base_uri": "https://localhost:8080/",
          "height": 295
        },
        "id": "RzV0Z8hbt7jK",
        "outputId": "3eb93f4a-14ef-4e2c-8721-1f24f0d601db"
      },
      "execution_count": 69,
      "outputs": [
        {
          "output_type": "display_data",
          "data": {
            "image/png": "[encoded data removed]",
            "text/plain": [
              "<Figure size 432x288 with 1 Axes>"
            ]
          },
          "metadata": {
            "needs_background": "light"
          }
        }
      ]
    },
    {
      "cell_type": "code",
      "source": [
        ""
      ],
      "metadata": {
        "id": "PFthxrYBui2H"
      },
      "execution_count": null,
      "outputs": []
    }
  ]
}