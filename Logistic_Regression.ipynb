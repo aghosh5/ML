{
  "nbformat": 4,
  "nbformat_minor": 0,
  "metadata": {
    "colab": {
      "name": "Logistic_Regression.ipynb",
      "provenance": []
    },
    "kernelspec": {
      "name": "python3",
      "display_name": "Python 3"
    },
    "language_info": {
      "name": "python"
    }
  },
  "cells": [
    {
      "cell_type": "markdown",
      "source": [
        ""
      ],
      "metadata": {
        "id": "u4mrzuEiTy1w"
      }
    },
    {
      "cell_type": "markdown",
      "metadata": {
        "id": "f5BLpBB_cv8y"
      },
      "source": [
        "**Logistic Regression:**"
      ]
    },
    {
      "cell_type": "markdown",
      "metadata": {
        "id": "SQA2GUq7cPXd"
      },
      "source": [
        "![Picture4.png](data:image/png;base64,iVBORw0KGgoAAAANSUhEUgAAAkMAAABLCAMAAABEK3PtAAAAAXNSR0IArs4c6QAAAARnQU1BAACxjwv8YQUAAAAzUExURQAAAAAAAAAAAAAAAAAAAAAAAAAAAAAAAAAAAAAAAAAAAAAAAAAAAAAAAAAAAAAAAAAAAKMFRskAAAAQdFJOUwATIi88SlhndoWWqLjL3O5QTd6UAAAACXBIWXMAABcRAAAXEQHKJvM/AAAEFklEQVR4Xu3ci3KjIBQGYEGDiAi8/9Pu4ZJNE3Cjkm3F/t/MjiaTpo3+Hi6S7QAAAAAAAAAAAAAAAOATuNJpD+AIppxDhuA4Ju1skCGocJt5J5EhqIQMQS1kCGohQ1ALGYJayBDUQoagFjIEtZAhqIUMQS1kCGohQ1CpN84NaR9gP3eHGF2dcgtLuwBHjG5GpwVqCKfCP4CD+tCQKSfSYwCAb3YfMzHr+rADsJNK3WnMBcJRPBYiKkOYw4GDVBiSjStlSKZJwkSmpwG+oELEu86slCFkCDbwhUigNwQVfCFa9vaGUl36pPTO0CJ14F5HOu+flN4ZWkSFCIMyqKPckvYy6FP/OH8Kzj/9+4/5RWQoGtIBIPUlW/u3oa3fbLjXLZxNeyeGOeq3pFs4bZh1c3yiinHWv9uNIrRh4dbwkd/5n/1ohqy/Gp2z514FN8e/Tzvzib9TxM7DLQ+HLJS50Y1p78R+MkM8tI/a3eLDs7JhaQy17B8ZfDDnKIrM5MtHSxlSLdwNP5whJqtbauF/dSOrl/qPdQhn/4F1aNCelTJkGugO+cWwaW8fSe1Q2q0ytrGKkm39fwF9B9xvWWiyqHhlIRB0xKdSeSlkiNFrb4szV1yaI8xCA4z04Cu9M1j+gLZAxZ7wQxhfPTzO/hjaKp8l/2gqRM86Uay9hQzd3KhGeq+T9xiP4Hq4H6QXbzL0mC6IDUNv2/hWCY2iXjptqxlKK/umeHhkIS1qpVksZIiGhL5PvZy9y3jQoQy9YLaNC4zbHS1uXI1lwpKIbjbhuSfjypxPIUM6ljF90cm5HRkSdNGaQvVmi22joV/2fAlP+ygIO/kNL5ShnnqSzx/b96G++NL6pQL36zPEtBv9sCY/C2GE0i2nr9PUAu/IejjhWoaqMuU3kpiZX8cRqxnq042oqy403ZyhJSQlXJ3PlJ8/Y6oQrnOhT7pnok9ShoRlkn6IF869XhgvN2Z5Wza6yW946QK8gq0ZknHkZbJL+X71FXoMp1Ie1q/3qSlDjFpuQVHSIQJPlG++y33kPENzfN1lVwm+ZGjtBm363lHDh2FOI2v59AnWMyTcLKkJGpwc85sjcVRfnpTLM5RWKa8tVm7exgwJqjP8ppxutRqLNKzvY7vy3uCMpXPuN6na0LGJO/RkCA8du8LhyDKUvndzdBr4/Da2ZZNPlJ6avZBoFBWyM9itczR0YMJPpA35myF6s3Ag6CWFgVaWIX9vv6OOVbPX3zsbM9T6sHQOZTXYeibT/f3HfMA9Qzca1fve32Do3fJBf5ahUQv69Uv+yqv4JRn6Rnl/6Oo2ZsiPdEl/0ZEFVOBUZQsVJssQt4Z3XJamqeFX+zuyfY1RlqGup7CZKV8tA1CWZwgAAAAAAAAAAAAAAGC7rvsDkSM8e6OA8XgAAAAASUVORK5CYII=)"
      ]
    },
    {
      "cell_type": "markdown",
      "metadata": {
        "id": "W0dxwE-Ubsdf"
      },
      "source": [
        "Y_hat --> predicted value\n",
        "\n",
        "X --> Input Variable\n",
        "\n",
        "w --> weight\n",
        "\n",
        "b --> bias"
      ]
    },
    {
      "cell_type": "markdown",
      "metadata": {
        "id": "X8OJXGuPvDt2"
      },
      "source": [
        "**Gradient Descent:**\n",
        "\n",
        "Gradient Descent is an optimization algorithm used for minimizing the loss function in various machine learning algorithms. It is used for updating the parameters of the learning model.\n",
        "\n",
        "w  =  w - α*dw\n",
        "\n",
        "b  =  b - α*db"
      ]
    },
    {
      "cell_type": "markdown",
      "metadata": {
        "id": "WSAfYP7WmECB"
      },
      "source": [
        "**Learning Rate:**\n",
        "\n",
        "Learning rate is a tuning parameter in an optimization algorithm that determines the step size at each iteration while moving toward a minimum of a loss function.\n",
        "\n",
        "\n",
        "Derivatives :"
      ]
    },
    {
      "cell_type": "markdown",
      "source": [
        "![image.png](data:image/png;base64,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)"
      ],
      "metadata": {
        "id": "345VwrnhUU_y"
      }
    },
    {
      "cell_type": "code",
      "execution_count": 1,
      "metadata": {
        "id": "bzrYInNeTHYU"
      },
      "outputs": [],
      "source": [
        "import numpy as np\n"
      ]
    },
    {
      "cell_type": "code",
      "source": [
        "class Logistic_Regression():\n",
        "  def __init__(self, learning_rate, no_of_iterations):\n",
        "    self.learning_rate = learning_rate\n",
        "    self.no_of_iterations = no_of_iterations\n",
        "\n",
        "  def fit(self, X, Y):\n",
        "    # number of data points in the dataset (number of rows)  -->  m\n",
        "    # number of input features in the dataset (number of columns)  --> n\n",
        "    self.m , self.n = X.shape\n",
        "    self.X = X\n",
        "    self.Y = Y\n",
        "    self.w = np.zeros(self.n)\n",
        "    self.b = 0\n",
        "\n",
        "    #Implementing gradient descent \n",
        "    for i in range(self.no_of_iterations):\n",
        "      self.update_weights()\n",
        "\n",
        "  def update_weights(self):\n",
        "   # Y_hat formula (sigmoid function)\n",
        "\n",
        "    Y_hat = 1 / (1 + np.exp( - (self.X.dot(self.w) + self.b ) ))    \n",
        "\n",
        "\n",
        "    # derivaties\n",
        "\n",
        "    dw = (1/self.m)*np.dot(self.X.T, (Y_hat - self.Y))\n",
        "\n",
        "    db = (1/self.m)*np.sum(Y_hat - self.Y)\n",
        "\n",
        "\n",
        "    # updating the weights & bias using gradient descent\n",
        "\n",
        "    self.w = self.w - self.learning_rate * dw\n",
        "\n",
        "    self.b = self.b - self.learning_rate * db\n",
        "\n",
        "  # Sigmoid Equation & Decision Boundary\n",
        "\n",
        "  def predict(self, X):\n",
        "\n",
        "    Y_pred = 1 / (1 + np.exp( - (X.dot(self.w) + self.b ) ))     \n",
        "    Y_pred = np.where( Y_pred > 0.5, 1, 0)\n",
        "    return Y_pred\n",
        "\n",
        "\n",
        "  "
      ],
      "metadata": {
        "id": "UbUiW-gYVvdu"
      },
      "execution_count": 3,
      "outputs": []
    },
    {
      "cell_type": "code",
      "source": [
        "import pandas as pd\n",
        "from sklearn.preprocessing import StandardScaler\n",
        "from sklearn.model_selection import train_test_split\n",
        "from sklearn.metrics import accuracy_score"
      ],
      "metadata": {
        "id": "u2mH07YuWj7G"
      },
      "execution_count": 4,
      "outputs": []
    },
    {
      "cell_type": "code",
      "source": [
        "diabetes_dataset = pd.read_csv('/content/diabetes.csv')"
      ],
      "metadata": {
        "id": "2wgtevE6XlvA"
      },
      "execution_count": 5,
      "outputs": []
    },
    {
      "cell_type": "code",
      "source": [
        "diabetes_dataset.head()"
      ],
      "metadata": {
        "colab": {
          "base_uri": "https://localhost:8080/",
          "height": 206
        },
        "id": "4h2pvZ3nXtOk",
        "outputId": "b11bbf6c-a184-4ee3-fe93-9e1d5fbdd617"
      },
      "execution_count": 6,
      "outputs": [
        {
          "output_type": "execute_result",
          "data": {
            "text/html": [
              "\n",
              "  <div id=\"df-7f080004-69de-49c8-8a4e-91c0e773b4f7\">\n",
              "    <div class=\"colab-df-container\">\n",
              "      <div>\n",
              "<style scoped>\n",
              "    .dataframe tbody tr th:only-of-type {\n",
              "        vertical-align: middle;\n",
              "    }\n",
              "\n",
              "    .dataframe tbody tr th {\n",
              "        vertical-align: top;\n",
              "    }\n",
              "\n",
              "    .dataframe thead th {\n",
              "        text-align: right;\n",
              "    }\n",
              "</style>\n",
              "<table border=\"1\" class=\"dataframe\">\n",
              "  <thead>\n",
              "    <tr style=\"text-align: right;\">\n",
              "      <th></th>\n",
              "      <th>Pregnancies</th>\n",
              "      <th>Glucose</th>\n",
              "      <th>BloodPressure</th>\n",
              "      <th>SkinThickness</th>\n",
              "      <th>Insulin</th>\n",
              "      <th>BMI</th>\n",
              "      <th>DiabetesPedigreeFunction</th>\n",
              "      <th>Age</th>\n",
              "      <th>Outcome</th>\n",
              "    </tr>\n",
              "  </thead>\n",
              "  <tbody>\n",
              "    <tr>\n",
              "      <th>0</th>\n",
              "      <td>6</td>\n",
              "      <td>148</td>\n",
              "      <td>72</td>\n",
              "      <td>35</td>\n",
              "      <td>0</td>\n",
              "      <td>33.6</td>\n",
              "      <td>0.627</td>\n",
              "      <td>50</td>\n",
              "      <td>1</td>\n",
              "    </tr>\n",
              "    <tr>\n",
              "      <th>1</th>\n",
              "      <td>1</td>\n",
              "      <td>85</td>\n",
              "      <td>66</td>\n",
              "      <td>29</td>\n",
              "      <td>0</td>\n",
              "      <td>26.6</td>\n",
              "      <td>0.351</td>\n",
              "      <td>31</td>\n",
              "      <td>0</td>\n",
              "    </tr>\n",
              "    <tr>\n",
              "      <th>2</th>\n",
              "      <td>8</td>\n",
              "      <td>183</td>\n",
              "      <td>64</td>\n",
              "      <td>0</td>\n",
              "      <td>0</td>\n",
              "      <td>23.3</td>\n",
              "      <td>0.672</td>\n",
              "      <td>32</td>\n",
              "      <td>1</td>\n",
              "    </tr>\n",
              "    <tr>\n",
              "      <th>3</th>\n",
              "      <td>1</td>\n",
              "      <td>89</td>\n",
              "      <td>66</td>\n",
              "      <td>23</td>\n",
              "      <td>94</td>\n",
              "      <td>28.1</td>\n",
              "      <td>0.167</td>\n",
              "      <td>21</td>\n",
              "      <td>0</td>\n",
              "    </tr>\n",
              "    <tr>\n",
              "      <th>4</th>\n",
              "      <td>0</td>\n",
              "      <td>137</td>\n",
              "      <td>40</td>\n",
              "      <td>35</td>\n",
              "      <td>168</td>\n",
              "      <td>43.1</td>\n",
              "      <td>2.288</td>\n",
              "      <td>33</td>\n",
              "      <td>1</td>\n",
              "    </tr>\n",
              "  </tbody>\n",
              "</table>\n",
              "</div>\n",
              "      <button class=\"colab-df-convert\" onclick=\"convertToInteractive('df-7f080004-69de-49c8-8a4e-91c0e773b4f7')\"\n",
              "              title=\"Convert this dataframe to an interactive table.\"\n",
              "              style=\"display:none;\">\n",
              "        \n",
              "  <svg xmlns=\"http://www.w3.org/2000/svg\" height=\"24px\"viewBox=\"0 0 24 24\"\n",
              "       width=\"24px\">\n",
              "    <path d=\"M0 0h24v24H0V0z\" fill=\"none\"/>\n",
              "    <path d=\"M18.56 5.44l.94 2.06.94-2.06 2.06-.94-2.06-.94-.94-2.06-.94 2.06-2.06.94zm-11 1L8.5 8.5l.94-2.06 2.06-.94-2.06-.94L8.5 2.5l-.94 2.06-2.06.94zm10 10l.94 2.06.94-2.06 2.06-.94-2.06-.94-.94-2.06-.94 2.06-2.06.94z\"/><path d=\"M17.41 7.96l-1.37-1.37c-.4-.4-.92-.59-1.43-.59-.52 0-1.04.2-1.43.59L10.3 9.45l-7.72 7.72c-.78.78-.78 2.05 0 2.83L4 21.41c.39.39.9.59 1.41.59.51 0 1.02-.2 1.41-.59l7.78-7.78 2.81-2.81c.8-.78.8-2.07 0-2.86zM5.41 20L4 18.59l7.72-7.72 1.47 1.35L5.41 20z\"/>\n",
              "  </svg>\n",
              "      </button>\n",
              "      \n",
              "  <style>\n",
              "    .colab-df-container {\n",
              "      display:flex;\n",
              "      flex-wrap:wrap;\n",
              "      gap: 12px;\n",
              "    }\n",
              "\n",
              "    .colab-df-convert {\n",
              "      background-color: #E8F0FE;\n",
              "      border: none;\n",
              "      border-radius: 50%;\n",
              "      cursor: pointer;\n",
              "      display: none;\n",
              "      fill: #1967D2;\n",
              "      height: 32px;\n",
              "      padding: 0 0 0 0;\n",
              "      width: 32px;\n",
              "    }\n",
              "\n",
              "    .colab-df-convert:hover {\n",
              "      background-color: #E2EBFA;\n",
              "      box-shadow: 0px 1px 2px rgba(60, 64, 67, 0.3), 0px 1px 3px 1px rgba(60, 64, 67, 0.15);\n",
              "      fill: #174EA6;\n",
              "    }\n",
              "\n",
              "    [theme=dark] .colab-df-convert {\n",
              "      background-color: #3B4455;\n",
              "      fill: #D2E3FC;\n",
              "    }\n",
              "\n",
              "    [theme=dark] .colab-df-convert:hover {\n",
              "      background-color: #434B5C;\n",
              "      box-shadow: 0px 1px 3px 1px rgba(0, 0, 0, 0.15);\n",
              "      filter: drop-shadow(0px 1px 2px rgba(0, 0, 0, 0.3));\n",
              "      fill: #FFFFFF;\n",
              "    }\n",
              "  </style>\n",
              "\n",
              "      <script>\n",
              "        const buttonEl =\n",
              "          document.querySelector('#df-7f080004-69de-49c8-8a4e-91c0e773b4f7 button.colab-df-convert');\n",
              "        buttonEl.style.display =\n",
              "          google.colab.kernel.accessAllowed ? 'block' : 'none';\n",
              "\n",
              "        async function convertToInteractive(key) {\n",
              "          const element = document.querySelector('#df-7f080004-69de-49c8-8a4e-91c0e773b4f7');\n",
              "          const dataTable =\n",
              "            await google.colab.kernel.invokeFunction('convertToInteractive',\n",
              "                                                     [key], {});\n",
              "          if (!dataTable) return;\n",
              "\n",
              "          const docLinkHtml = 'Like what you see? Visit the ' +\n",
              "            '<a target=\"_blank\" href=https://colab.research.google.com/notebooks/data_table.ipynb>data table notebook</a>'\n",
              "            + ' to learn more about interactive tables.';\n",
              "          element.innerHTML = '';\n",
              "          dataTable['output_type'] = 'display_data';\n",
              "          await google.colab.output.renderOutput(dataTable, element);\n",
              "          const docLink = document.createElement('div');\n",
              "          docLink.innerHTML = docLinkHtml;\n",
              "          element.appendChild(docLink);\n",
              "        }\n",
              "      </script>\n",
              "    </div>\n",
              "  </div>\n",
              "  "
            ],
            "text/plain": [
              "   Pregnancies  Glucose  BloodPressure  ...  DiabetesPedigreeFunction  Age  Outcome\n",
              "0            6      148             72  ...                     0.627   50        1\n",
              "1            1       85             66  ...                     0.351   31        0\n",
              "2            8      183             64  ...                     0.672   32        1\n",
              "3            1       89             66  ...                     0.167   21        0\n",
              "4            0      137             40  ...                     2.288   33        1\n",
              "\n",
              "[5 rows x 9 columns]"
            ]
          },
          "metadata": {},
          "execution_count": 6
        }
      ]
    },
    {
      "cell_type": "code",
      "source": [
        "diabetes_dataset['Outcome'].value_counts()"
      ],
      "metadata": {
        "colab": {
          "base_uri": "https://localhost:8080/"
        },
        "id": "tgJabiLsXwSC",
        "outputId": "2c29dc8e-037a-488f-cc58-cf0496ce59e1"
      },
      "execution_count": 7,
      "outputs": [
        {
          "output_type": "execute_result",
          "data": {
            "text/plain": [
              "0    500\n",
              "1    268\n",
              "Name: Outcome, dtype: int64"
            ]
          },
          "metadata": {},
          "execution_count": 7
        }
      ]
    },
    {
      "cell_type": "code",
      "source": [
        "# separating the data and labels\n",
        "features = diabetes_dataset.drop(columns = 'Outcome', axis=1)\n",
        "target = diabetes_dataset['Outcome']"
      ],
      "metadata": {
        "id": "m8TUGfIiX7yh"
      },
      "execution_count": 8,
      "outputs": []
    },
    {
      "cell_type": "markdown",
      "source": [
        "Data Standardization"
      ],
      "metadata": {
        "id": "UokusOm9YI_R"
      }
    },
    {
      "cell_type": "code",
      "source": [
        "scaler = StandardScaler()\n",
        "scaler.fit(features)"
      ],
      "metadata": {
        "colab": {
          "base_uri": "https://localhost:8080/"
        },
        "id": "DyIs7XcpYA_i",
        "outputId": "b54b3714-f357-4bf1-f8f1-727dc0895c6b"
      },
      "execution_count": 9,
      "outputs": [
        {
          "output_type": "execute_result",
          "data": {
            "text/plain": [
              "StandardScaler()"
            ]
          },
          "metadata": {},
          "execution_count": 9
        }
      ]
    },
    {
      "cell_type": "code",
      "source": [
        "standardized_data = scaler.transform(features)"
      ],
      "metadata": {
        "id": "0MWQb0GsYW3o"
      },
      "execution_count": 10,
      "outputs": []
    },
    {
      "cell_type": "code",
      "source": [
        "print(standardized_data)"
      ],
      "metadata": {
        "colab": {
          "base_uri": "https://localhost:8080/"
        },
        "id": "wPDJ9wCVYcfR",
        "outputId": "c3f2732d-d09c-4906-bb1d-af89f164845b"
      },
      "execution_count": 11,
      "outputs": [
        {
          "output_type": "stream",
          "name": "stdout",
          "text": [
            "[[ 0.63994726  0.84832379  0.14964075 ...  0.20401277  0.46849198\n",
            "   1.4259954 ]\n",
            " [-0.84488505 -1.12339636 -0.16054575 ... -0.68442195 -0.36506078\n",
            "  -0.19067191]\n",
            " [ 1.23388019  1.94372388 -0.26394125 ... -1.10325546  0.60439732\n",
            "  -0.10558415]\n",
            " ...\n",
            " [ 0.3429808   0.00330087  0.14964075 ... -0.73518964 -0.68519336\n",
            "  -0.27575966]\n",
            " [-0.84488505  0.1597866  -0.47073225 ... -0.24020459 -0.37110101\n",
            "   1.17073215]\n",
            " [-0.84488505 -0.8730192   0.04624525 ... -0.20212881 -0.47378505\n",
            "  -0.87137393]]\n"
          ]
        }
      ]
    },
    {
      "cell_type": "code",
      "source": [
        "features = standardized_data\n",
        "target = diabetes_dataset['Outcome']"
      ],
      "metadata": {
        "id": "7VCLuqsyYfd0"
      },
      "execution_count": 12,
      "outputs": []
    },
    {
      "cell_type": "code",
      "source": [
        "print(features)\n",
        "print(target)"
      ],
      "metadata": {
        "colab": {
          "base_uri": "https://localhost:8080/"
        },
        "id": "EssTcnP2YsHf",
        "outputId": "6e3514c8-faaa-4291-9107-2ac9cb0fba36"
      },
      "execution_count": 13,
      "outputs": [
        {
          "output_type": "stream",
          "name": "stdout",
          "text": [
            "[[ 0.63994726  0.84832379  0.14964075 ...  0.20401277  0.46849198\n",
            "   1.4259954 ]\n",
            " [-0.84488505 -1.12339636 -0.16054575 ... -0.68442195 -0.36506078\n",
            "  -0.19067191]\n",
            " [ 1.23388019  1.94372388 -0.26394125 ... -1.10325546  0.60439732\n",
            "  -0.10558415]\n",
            " ...\n",
            " [ 0.3429808   0.00330087  0.14964075 ... -0.73518964 -0.68519336\n",
            "  -0.27575966]\n",
            " [-0.84488505  0.1597866  -0.47073225 ... -0.24020459 -0.37110101\n",
            "   1.17073215]\n",
            " [-0.84488505 -0.8730192   0.04624525 ... -0.20212881 -0.47378505\n",
            "  -0.87137393]]\n",
            "0      1\n",
            "1      0\n",
            "2      1\n",
            "3      0\n",
            "4      1\n",
            "      ..\n",
            "763    0\n",
            "764    0\n",
            "765    0\n",
            "766    1\n",
            "767    0\n",
            "Name: Outcome, Length: 768, dtype: int64\n"
          ]
        }
      ]
    },
    {
      "cell_type": "code",
      "source": [
        "X_train, X_test, Y_train, Y_test = train_test_split(features,target, test_size = 0.2, random_state=2)"
      ],
      "metadata": {
        "id": "ZwDqMLo-YutO"
      },
      "execution_count": 14,
      "outputs": []
    },
    {
      "cell_type": "code",
      "source": [
        "print(features.shape, X_train.shape, X_test.shape)"
      ],
      "metadata": {
        "colab": {
          "base_uri": "https://localhost:8080/"
        },
        "id": "oDGT-npOYyBV",
        "outputId": "dfb3ebb1-60a1-4a1d-deee-bdca9679bafa"
      },
      "execution_count": 15,
      "outputs": [
        {
          "output_type": "stream",
          "name": "stdout",
          "text": [
            "(768, 8) (614, 8) (154, 8)\n"
          ]
        }
      ]
    },
    {
      "cell_type": "markdown",
      "source": [
        "Training the model "
      ],
      "metadata": {
        "id": "eQhek6VjY4Ba"
      }
    },
    {
      "cell_type": "code",
      "source": [
        "classifier = Logistic_Regression(learning_rate=0.01, no_of_iterations=10000)"
      ],
      "metadata": {
        "id": "wyXnPG84Y20p"
      },
      "execution_count": 16,
      "outputs": []
    },
    {
      "cell_type": "code",
      "source": [
        "classifier.fit(X_train, Y_train)"
      ],
      "metadata": {
        "id": "m35LHTfpZHqN"
      },
      "execution_count": 17,
      "outputs": []
    },
    {
      "cell_type": "markdown",
      "source": [
        "Model evaluation : Accuracy score"
      ],
      "metadata": {
        "id": "zbmD-La0ZSqs"
      }
    },
    {
      "cell_type": "code",
      "source": [
        "# accuracy score on the training data\n",
        "X_train_prediction = classifier.predict(X_train)\n",
        "training_data_accuracy = accuracy_score( Y_train, X_train_prediction)"
      ],
      "metadata": {
        "id": "l1IqrLBpZOSB"
      },
      "execution_count": 18,
      "outputs": []
    },
    {
      "cell_type": "code",
      "source": [
        "print('Accuracy on training set : ', training_data_accuracy)"
      ],
      "metadata": {
        "colab": {
          "base_uri": "https://localhost:8080/"
        },
        "id": "NWcxlvbCZmSY",
        "outputId": "9c6ec929-7eaa-4dca-e1b7-b8d06731822d"
      },
      "execution_count": 19,
      "outputs": [
        {
          "output_type": "stream",
          "name": "stdout",
          "text": [
            "Accuracy on training set :  0.7801302931596091\n"
          ]
        }
      ]
    },
    {
      "cell_type": "code",
      "source": [
        "# accuracy score on the training data\n",
        "X_test_prediction = classifier.predict(X_test)\n",
        "test_data_accuracy = accuracy_score( Y_test, X_test_prediction)\n",
        "print('Accuracy on test set : ', test_data_accuracy)"
      ],
      "metadata": {
        "colab": {
          "base_uri": "https://localhost:8080/"
        },
        "id": "73DbslY6ZvPn",
        "outputId": "812fa9a6-96e4-4053-c024-08f87332c05d"
      },
      "execution_count": 20,
      "outputs": [
        {
          "output_type": "stream",
          "name": "stdout",
          "text": [
            "Accuracy on test set :  0.7662337662337663\n"
          ]
        }
      ]
    },
    {
      "cell_type": "markdown",
      "source": [
        "Making a predictive system"
      ],
      "metadata": {
        "id": "Q3ipfqOnaNdK"
      }
    },
    {
      "cell_type": "code",
      "source": [
        "input_data = (4,110,92,0,0,37.6,0.191,30)\n",
        "input_data_as_numpy_array = np.asarray(input_data)\n",
        "# reshape the array as we are predicting for one instance\n",
        "input_data_reshaped = input_data_as_numpy_array.reshape(1,-1)\n",
        "\n",
        "# standardize the input data\n",
        "std_data = scaler.transform(input_data_reshaped)\n",
        "print(std_data)\n",
        "prediction = classifier.predict(std_data)\n",
        "print(prediction)\n",
        "\n",
        "if (prediction[0] == 0):\n",
        "  print('The person is not diabetic')\n",
        "else:\n",
        "  print('The person is diabetic')"
      ],
      "metadata": {
        "colab": {
          "base_uri": "https://localhost:8080/"
        },
        "id": "tIyaIwPYaIwr",
        "outputId": "131f00e4-118b-4fe4-dc2f-e690f29f18aa"
      },
      "execution_count": 23,
      "outputs": [
        {
          "output_type": "stream",
          "name": "stdout",
          "text": [
            "[[ 0.04601433 -0.34096773  1.18359575 -1.28821221 -0.69289057  0.71168975\n",
            "  -0.84827977 -0.27575966]]\n",
            "[0]\n",
            "The person is not diabetic\n"
          ]
        },
        {
          "output_type": "stream",
          "name": "stderr",
          "text": [
            "/usr/local/lib/python3.7/dist-packages/sklearn/base.py:451: UserWarning: X does not have valid feature names, but StandardScaler was fitted with feature names\n",
            "  \"X does not have valid feature names, but\"\n"
          ]
        }
      ]
    },
    {
      "cell_type": "markdown",
      "source": [
        "CAN SAVE LOGISTIC REG CLASS AS A .PY FILE\n",
        "Say, Log_Reg\n",
        "\n",
        "ADD IMPORT NUMPY.NP THERE\n",
        "\n",
        "THEN -\n",
        "\n",
        "classifier = Log_Reg.Logistic_Regression(learning_rate......)\n",
        "\n",
        "Others - same"
      ],
      "metadata": {
        "id": "eLcFIgbtfCWj"
      }
    },
    {
      "cell_type": "code",
      "source": [
        ""
      ],
      "metadata": {
        "id": "T5lclgMCa1ri"
      },
      "execution_count": null,
      "outputs": []
    }
  ]
}